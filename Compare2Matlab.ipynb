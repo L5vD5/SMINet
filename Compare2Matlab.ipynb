{
 "cells": [
  {
   "cell_type": "code",
   "execution_count": 1,
   "metadata": {},
   "outputs": [],
   "source": [
    "import torch\n",
    "from model import *\n",
    "from dataloader import *\n",
    "from utils.pyart import *\n",
    "import argparse\n",
    "import numpy as np\n",
    "from pathlib import Path\n",
    "\n",
    "data_path='./data/Multi_2dim_log_spiral/fold9/Multi_2dim_log_spiral_910.txt'\n",
    "checkpoint= './output/0119_3/checkpoint_50.pth'"
   ]
  },
  {
   "cell_type": "code",
   "execution_count": 9,
   "metadata": {},
   "outputs": [],
   "source": [
    "# load checkpoint\n",
    "checkpoint = torch.load(checkpoint)\n",
    "branchNum = checkpoint['branchNum']\n",
    "input_dim = checkpoint['input_dim']\n",
    "branchLs = bnum2ls(branchNum)\n",
    "n_joint = len(branchLs)\n",
    "\n",
    "# load model\n",
    "model = Model(branchLs, input_dim)\n",
    "model.load_state_dict(checkpoint['state_dict'])\n",
    "model.eval()\n",
    "\n",
    "# load data\n",
    "test_data_loader = ToyDataloader(data_path, n_workers = 1, batch = 1, shuffle=False)\n",
    "\n",
    "# get revAngle,priAngle\n",
    "revAngle = np.array([]).reshape(-1,n_joint)\n",
    "priAngle = np.array([]).reshape(-1,n_joint)\n",
    "for input,_ in test_data_loader:\n",
    "    \n",
    "    rev_q_value, pri_q_value = model.q_layer(input)\n",
    "\n",
    "    rev_q_value = rev_q_value.detach().cpu().numpy()\n",
    "    pri_q_value = pri_q_value.detach().cpu().numpy()\n",
    "\n",
    "    revAngle = np.vstack((revAngle,rev_q_value))\n",
    "    priAngle = np.vstack((priAngle,pri_q_value))\n",
    "\n",
    "\n",
    "# get targetPose\n",
    "targetPose = test_data_loader.dataset.label\n",
    "targetPose = targetPose.detach().cpu().numpy()\n",
    "\n",
    "# get outputPose\n",
    "outputPose = np.array([]).reshape(-1,targetPose.shape[1])\n",
    "for input,_ in test_data_loader:\n",
    "    outputPose_temp,_,_ = model(input)\n",
    "    outputPose_temp = outputPose_temp[:,:,0:3,3]\n",
    "    outputPose_temp = outputPose_temp.reshape(-1,outputPose_temp.size()[1]*outputPose_temp.size()[2])\n",
    "    outputPose_temp = outputPose_temp.detach().cpu().numpy()[0]\n",
    "    outputPose = np.vstack((outputPose,outputPose_temp))\n"
   ]
  },
  {
   "cell_type": "code",
   "execution_count": 45,
   "metadata": {},
   "outputs": [
    {
     "name": "stdout",
     "output_type": "stream",
     "text": [
      "[1.1447837 1.0912329 1.4398816]\n"
     ]
    }
   ],
   "source": [
    "''' check Joint position'''\n",
    "\n",
    "jointNumber = 5\n",
    "tick = 300\n",
    "\n",
    "isrev_ = jointNumber % 2 == 1\n",
    "Jnumber = int( (jointNumber-3)/2 )\n",
    "\n",
    "rev_q = revAngle[tick-1,:]\n",
    "pri_q = priAngle[tick-1,:]\n",
    "\n",
    "rev_q = torch.tensor(rev_q).unsqueeze(0).to(torch.float)\n",
    "pri_q = torch.tensor(pri_q).unsqueeze(0).to(torch.float)\n",
    "\n",
    "TrackingSE3, RevSE3, PriSE3 = model.trans_layer(rev_q,pri_q)\n",
    "\n",
    "if isrev_:\n",
    "    T = RevSE3[0,Jnumber].unsqueeze(0)\n",
    "    p = t2p(T)\n",
    "\n",
    "else:\n",
    "    T = PriSE3[0,Jnumber].unsqueeze(0)\n",
    "    p = t2p(T)\n",
    "\n",
    "print(p.detach().numpy()[0])"
   ]
  }
 ],
 "metadata": {
  "interpreter": {
   "hash": "8cf259b9bbe7e8f023bbe66d8ff4b601d6f7e6c5a4fc23da23830324920ffed4"
  },
  "kernelspec": {
   "display_name": "Python 3.9.6 64-bit ('poenet': pyenv)",
   "language": "python",
   "name": "python3"
  },
  "language_info": {
   "codemirror_mode": {
    "name": "ipython",
    "version": 3
   },
   "file_extension": ".py",
   "mimetype": "text/x-python",
   "name": "python",
   "nbconvert_exporter": "python",
   "pygments_lexer": "ipython3",
   "version": "3.9.6"
  },
  "orig_nbformat": 4
 },
 "nbformat": 4,
 "nbformat_minor": 2
}
