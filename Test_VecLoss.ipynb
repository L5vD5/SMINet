{
 "cells": [
  {
   "cell_type": "code",
   "execution_count": 11,
   "metadata": {},
   "outputs": [
    {
     "data": {
      "text/plain": [
       "Model(\n",
       "  (q_layer): q_layer(\n",
       "    (layers): ModuleList(\n",
       "      (0): Linear(in_features=2, out_features=4, bias=True)\n",
       "      (1): Linear(in_features=4, out_features=8, bias=True)\n",
       "      (2): Linear(in_features=8, out_features=16, bias=True)\n",
       "      (3): Linear(in_features=16, out_features=32, bias=True)\n",
       "      (4): Linear(in_features=32, out_features=64, bias=True)\n",
       "      (5): Linear(in_features=64, out_features=128, bias=True)\n",
       "      (6): Linear(in_features=128, out_features=256, bias=True)\n",
       "      (7): Linear(in_features=256, out_features=128, bias=True)\n",
       "      (8): Linear(in_features=128, out_features=64, bias=True)\n",
       "      (9): Linear(in_features=64, out_features=32, bias=True)\n",
       "      (10): Linear(in_features=32, out_features=16, bias=True)\n",
       "      (11): Linear(in_features=16, out_features=8, bias=True)\n",
       "      (12): Linear(in_features=8, out_features=4, bias=True)\n",
       "      (13): Linear(in_features=4, out_features=40, bias=True)\n",
       "    )\n",
       "  )\n",
       "  (trans_layer): TransformLayer(\n",
       "    (joint_1): PRjoint()\n",
       "    (joint_2): PRjoint()\n",
       "    (joint_3): PRjoint()\n",
       "    (joint_4): PRjoint()\n",
       "    (joint_5): PRjoint()\n",
       "    (joint_6): PRjoint()\n",
       "    (joint_7): PRjoint()\n",
       "    (joint_8): PRjoint()\n",
       "    (joint_9): PRjoint()\n",
       "    (joint_10): PRjoint()\n",
       "    (joint_11): PRjoint()\n",
       "    (joint_12): PRjoint()\n",
       "    (joint_13): PRjoint()\n",
       "    (joint_14): PRjoint()\n",
       "    (joint_15): PRjoint()\n",
       "    (joint_16): PRjoint()\n",
       "    (joint_17): PRjoint()\n",
       "    (joint_18): PRjoint()\n",
       "    (joint_19): PRjoint()\n",
       "    (joint_20): PRjoint()\n",
       "  )\n",
       ")"
      ]
     },
     "execution_count": 11,
     "metadata": {},
     "output_type": "execute_result"
    }
   ],
   "source": [
    "import torch\n",
    "from model import *\n",
    "from dataloader import *\n",
    "from utils.pyart import *\n",
    "import argparse\n",
    "import numpy as np\n",
    "from pathlib import Path\n",
    "\n",
    "data_path='./data/Multi_2dim_log_spiral'\n",
    "checkpoint= './output/0119_3/checkpoint_50.pth'\n",
    "\n",
    "# load checkpoint\n",
    "checkpoint = torch.load(checkpoint)\n",
    "branchNum = checkpoint['branchNum']\n",
    "input_dim = checkpoint['input_dim']\n",
    "branchLs = bnum2ls(branchNum)\n",
    "n_joint = len(branchLs)\n",
    "\n",
    "# load model\n",
    "model = Model(branchLs, input_dim)\n",
    "model.load_state_dict(checkpoint['state_dict'])\n",
    "model.eval()"
   ]
  },
  {
   "cell_type": "code",
   "execution_count": 14,
   "metadata": {},
   "outputs": [
    {
     "data": {
      "text/plain": [
       "tensor([[1.1395, 2.0966],\n",
       "        [1.6068, 2.3164],\n",
       "        [1.5202, 1.1919],\n",
       "        [1.0523, 0.4356],\n",
       "        [1.1640, 1.5206],\n",
       "        [2.5112, 0.8905],\n",
       "        [3.2059, 2.7037],\n",
       "        [2.3566, 1.0878],\n",
       "        [2.5322, 2.9130],\n",
       "        [2.0712, 1.8193],\n",
       "        [2.1500, 2.4039],\n",
       "        [2.7673, 1.5165],\n",
       "        [1.5724, 0.5782],\n",
       "        [1.7506, 2.6466],\n",
       "        [2.4031, 1.2477],\n",
       "        [1.7861, 0.5366]])"
      ]
     },
     "execution_count": 14,
     "metadata": {},
     "output_type": "execute_result"
    }
   ],
   "source": [
    "# get input\n",
    "\n",
    "test_data_loader = FoldToyDataloader(data_path, 8, -1, 1, 16)\n",
    "input,_ = next(iter(test_data_loader))\n",
    "input"
   ]
  },
  {
   "cell_type": "code",
   "execution_count": 17,
   "metadata": {},
   "outputs": [],
   "source": [
    "# get postion of joint\n",
    "TrackingSE3, RevSE3, PriSE3 = model(input)"
   ]
  },
  {
   "cell_type": "code",
   "execution_count": 73,
   "metadata": {},
   "outputs": [],
   "source": [
    "def VecLoss(vec_tar,vec):\n",
    "    vec_norm = torch.linalg.norm(vec,dim=1)\n",
    "    vec = vec/ (vec_norm.unsqueeze(1))\n",
    "\n",
    "    vec_tar_norm = torch.linalg.norm(vec_tar,dim=1)\n",
    "    vec_tar = vec_tar/ (vec_tar_norm.unsqueeze(1))\n",
    "\n",
    "    # check dot product\n",
    "    res = vec * vec_tar\n",
    "    res = torch.sum(res)\n",
    "    \n",
    "    return res"
   ]
  },
  {
   "cell_type": "code",
   "execution_count": 93,
   "metadata": {},
   "outputs": [
    {
     "data": {
      "text/plain": [
       "tensor(212.6009, grad_fn=<AddBackward0>)"
      ]
     },
     "execution_count": 93,
     "metadata": {},
     "output_type": "execute_result"
    }
   ],
   "source": [
    "batch_size = TrackingSE3.size()[0]\n",
    "device = TrackingSE3.device\n",
    "\n",
    "Loss = torch.tensor(0).to(torch.float).to(device)\n",
    "currJoint = 1\n",
    "prev_tar = torch.tensor([[0,0,0]]).to(torch.float).to(device)\n",
    "prev_pri_p = torch.tensor([[0,0,0]]).to(torch.float).to(device)\n",
    "prev_rev_p = torch.tensor([[0,0,0]]).to(torch.float).to(device)\n",
    "\n",
    "targetNums = TrackingSE3.size()[1]\n",
    "for targetNum in range(targetNums):\n",
    "    curr_tar = t2p(TrackingSE3[:,targetNum])\n",
    "    vec_tar = curr_tar - prev_tar\n",
    "    freeJnum = branchNum[targetNum]\n",
    "    for joint in range(currJoint,currJoint+freeJnum+1):\n",
    "        rev_p = t2p(RevSE3[:,joint-1])\n",
    "        vec = (rev_p - prev_pri_p)\n",
    "        Loss = Loss + VecLoss(vec_tar,vec)\n",
    "        prev_rev_p = rev_p\n",
    "\n",
    "        pri_p = t2p(PriSE3[:,joint-1])\n",
    "        vec = (pri_p - prev_rev_p)\n",
    "        Loss = Loss + VecLoss(vec_tar,vec)\n",
    "        prev_pri_p = pri_p\n",
    "\n",
    "        currJoint = currJoint + 1\n",
    "     \n",
    "\n",
    "Loss"
   ]
  },
  {
   "cell_type": "code",
   "execution_count": 94,
   "metadata": {},
   "outputs": [
    {
     "data": {
      "text/plain": [
       "21"
      ]
     },
     "execution_count": 94,
     "metadata": {},
     "output_type": "execute_result"
    }
   ],
   "source": [
    "currJoint"
   ]
  },
  {
   "cell_type": "code",
   "execution_count": 64,
   "metadata": {},
   "outputs": [
    {
     "data": {
      "text/plain": [
       "(tensor([1.0000, 1.0000, 1.0000, 1.0000, 1.0000, 1.0000, 1.0000, 1.0000, 1.0000,\n",
       "         1.0000, 1.0000, 1.0000, 1.0000, 1.0000, 1.0000, 1.0000],\n",
       "        grad_fn=<CopyBackwards>),\n",
       " tensor([1.0000, 1.0000, 1.0000, 1.0000, 1.0000, 1.0000, 1.0000, 1.0000, 1.0000,\n",
       "         1.0000, 1.0000, 1.0000, 1.0000, 1.0000, 1.0000, 1.0000],\n",
       "        grad_fn=<CopyBackwards>))"
      ]
     },
     "execution_count": 64,
     "metadata": {},
     "output_type": "execute_result"
    }
   ],
   "source": [
    "# check if normalized to 1\n",
    "vec_norm = torch.linalg.norm(vec,dim=1)\n",
    "vec_temp = vec/ (vec_norm.unsqueeze(1))\n",
    "\n",
    "vec_tar_norm = torch.linalg.norm(vec_tar,dim=1)\n",
    "vec_tar_temp = vec_tar/ (vec_tar_norm.unsqueeze(1))\n",
    "\n",
    "torch.linalg.norm(vec_temp,dim=1), torch.linalg.norm(vec_tar_temp,dim=1)\n"
   ]
  },
  {
   "cell_type": "code",
   "execution_count": 72,
   "metadata": {},
   "outputs": [],
   "source": [
    "# check dot product\n",
    "res = vec_temp * vec_tar_temp\n",
    "res = torch.sum(res)"
   ]
  },
  {
   "cell_type": "code",
   "execution_count": 32,
   "metadata": {},
   "outputs": [
    {
     "data": {
      "text/plain": [
       "tensor([[[-0.1814, -0.6987, -0.6921, -0.9080],\n",
       "         [ 0.3767, -0.6994,  0.6073,  0.1508],\n",
       "         [-0.9084, -0.1506,  0.3901,  0.9647],\n",
       "         [ 0.0000,  0.0000,  0.0000,  1.0000]],\n",
       "\n",
       "        [[-0.1819, -0.6997, -0.6908, -0.3908],\n",
       "         [ 0.3767, -0.6985,  0.6084,  0.3884],\n",
       "         [-0.9083, -0.1496,  0.3907,  1.0845],\n",
       "         [ 0.0000,  0.0000,  0.0000,  1.0000]],\n",
       "\n",
       "        [[-0.1886, -0.6998, -0.6890, -0.4879],\n",
       "         [ 0.3746, -0.6998,  0.6082,  0.3409],\n",
       "         [-0.9078, -0.1434,  0.3941,  1.0618],\n",
       "         [ 0.0000,  0.0000,  0.0000,  1.0000]],\n",
       "\n",
       "        [[-0.2064, -0.6841, -0.6996, -1.4439],\n",
       "         [ 0.3661, -0.7170,  0.5932, -0.1555],\n",
       "         [-0.9074, -0.1337,  0.3984,  0.8364],\n",
       "         [ 0.0000,  0.0000,  0.0000,  1.0000]],\n",
       "\n",
       "        [[-0.1845, -0.6989, -0.6910, -0.8643],\n",
       "         [ 0.3758, -0.6998,  0.6075,  0.1688],\n",
       "         [-0.9082, -0.1476,  0.3918,  0.9747],\n",
       "         [ 0.0000,  0.0000,  0.0000,  1.0000]],\n",
       "\n",
       "        [[-0.1959, -0.7016, -0.6851,  0.4428],\n",
       "         [ 0.3725, -0.6995,  0.6099,  0.7719],\n",
       "         [-0.9071, -0.1357,  0.3984,  1.2776],\n",
       "         [ 0.0000,  0.0000,  0.0000,  1.0000]],\n",
       "\n",
       "        [[-0.1853, -0.7030, -0.6866,  1.1801],\n",
       "         [ 0.3761, -0.6963,  0.6114,  1.1046],\n",
       "         [-0.9079, -0.1450,  0.3934,  1.4478],\n",
       "         [ 0.0000,  0.0000,  0.0000,  1.0000]],\n",
       "\n",
       "        [[-0.1928, -0.7015, -0.6861,  0.3449],\n",
       "         [ 0.3735, -0.6990,  0.6098,  0.7259],\n",
       "         [-0.9074, -0.1387,  0.3968,  1.2549],\n",
       "         [ 0.0000,  0.0000,  0.0000,  1.0000]],\n",
       "\n",
       "        [[-0.1828, -0.7017, -0.6886,  0.5630],\n",
       "         [ 0.3767, -0.6969,  0.6102,  0.8236],\n",
       "         [-0.9081, -0.1479,  0.3917,  1.3051],\n",
       "         [ 0.0000,  0.0000,  0.0000,  1.0000]],\n",
       "\n",
       "        [[-0.1856, -0.7009, -0.6887,  0.1113],\n",
       "         [ 0.3757, -0.6982,  0.6094,  0.6179],\n",
       "         [-0.9080, -0.1457,  0.3929,  1.2007],\n",
       "         [ 0.0000,  0.0000,  0.0000,  1.0000]],\n",
       "\n",
       "        [[-0.1831, -0.7010, -0.6893,  0.1762],\n",
       "         [ 0.3765, -0.6977,  0.6095,  0.6475],\n",
       "         [-0.9081, -0.1480,  0.3917,  1.2157],\n",
       "         [ 0.0000,  0.0000,  0.0000,  1.0000]],\n",
       "\n",
       "        [[-0.1899, -0.7023, -0.6861,  0.7654],\n",
       "         [ 0.3746, -0.6977,  0.6106,  0.9185],\n",
       "         [-0.9076, -0.1410,  0.3956,  1.3522],\n",
       "         [ 0.0000,  0.0000,  0.0000,  1.0000]],\n",
       "\n",
       "        [[-0.1987, -0.6989, -0.6870, -0.8061],\n",
       "         [ 0.3711, -0.7025,  0.6073,  0.1857],\n",
       "         [-0.9071, -0.1343,  0.3990,  0.9876],\n",
       "         [ 0.0000,  0.0000,  0.0000,  1.0000]],\n",
       "\n",
       "        [[-0.1812, -0.7000, -0.6907, -0.2316],\n",
       "         [ 0.3770, -0.6981,  0.6087,  0.4615],\n",
       "         [-0.9083, -0.1502,  0.3904,  1.1214],\n",
       "         [ 0.0000,  0.0000,  0.0000,  1.0000]],\n",
       "\n",
       "        [[-0.1912, -0.7016, -0.6864,  0.4086],\n",
       "         [ 0.3740, -0.6986,  0.6099,  0.7550],\n",
       "         [-0.9075, -0.1401,  0.3960,  1.2696],\n",
       "         [ 0.0000,  0.0000,  0.0000,  1.0000]],\n",
       "\n",
       "        [[-0.2008, -0.6990, -0.6864, -0.6766],\n",
       "         [ 0.3705, -0.7028,  0.6073,  0.2455],\n",
       "         [-0.9069, -0.1323,  0.4001,  1.0176],\n",
       "         [ 0.0000,  0.0000,  0.0000,  1.0000]]], grad_fn=<SelectBackward>)"
      ]
     },
     "execution_count": 32,
     "metadata": {},
     "output_type": "execute_result"
    }
   ],
   "source": [
    "RevSE3[:,joint]"
   ]
  }
 ],
 "metadata": {
  "interpreter": {
   "hash": "8cf259b9bbe7e8f023bbe66d8ff4b601d6f7e6c5a4fc23da23830324920ffed4"
  },
  "kernelspec": {
   "display_name": "Python 3.9.6 64-bit ('poenet': pyenv)",
   "language": "python",
   "name": "python3"
  },
  "language_info": {
   "codemirror_mode": {
    "name": "ipython",
    "version": 3
   },
   "file_extension": ".py",
   "mimetype": "text/x-python",
   "name": "python",
   "nbconvert_exporter": "python",
   "pygments_lexer": "ipython3",
   "version": "3.9.6"
  },
  "orig_nbformat": 4
 },
 "nbformat": 4,
 "nbformat_minor": 2
}
